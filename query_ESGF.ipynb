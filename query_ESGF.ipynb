{
 "cells": [
  {
   "cell_type": "code",
   "execution_count": 88,
   "id": "16a1b6a0-bbe3-4b25-b47c-9e69f2bcb40b",
   "metadata": {},
   "outputs": [
    {
     "name": "stdout",
     "output_type": "stream",
     "text": [
      "CPU times: user 42 μs, sys: 4 μs, total: 46 μs\n",
      "Wall time: 58.4 μs\n"
     ]
    }
   ],
   "source": [
    "%%time\n",
    "import json\n",
    "import numpy as np\n",
    "import os\n",
    "import pdb\n",
    "import requests\n",
    "import pandas as pd\n",
    "from IPython.display import clear_output"
   ]
  },
  {
   "cell_type": "code",
   "execution_count": 89,
   "id": "1248122d-e239-4c9c-ab39-bd1011939cdb",
   "metadata": {},
   "outputs": [
    {
     "name": "stdout",
     "output_type": "stream",
     "text": [
      "CPU times: user 3 μs, sys: 0 ns, total: 3 μs\n",
      "Wall time: 5.96 μs\n"
     ]
    }
   ],
   "source": [
    "%%time\n",
    "# both input4MIPs and input4mips\n",
    "actId = \"input4MIPs\"\n",
    "projId = \"input4MIPs\"\n",
    "mip_era = \"CMIP7\"\n"
   ]
  },
  {
   "cell_type": "code",
   "execution_count": 90,
   "id": "843f1c7f-2054-46d0-b5a6-7af05c721a8d",
   "metadata": {},
   "outputs": [
    {
     "name": "stdout",
     "output_type": "stream",
     "text": [
      "Status Code: 200\n",
      "Headers: {'Date': 'Sun, 23 Feb 2025 16:37:42 GMT', 'Server': 'Apache', 'Cache-Control': 'no-cache, no-store, max-age=0, must-revalidate', 'Pragma': 'no-cache', 'Expires': '0', 'X-XSS-Protection': '1; mode=block', 'X-Frame-Options': 'DENY', 'X-Content-Type-Options': 'nosniff', 'Content-Type': 'text/json;charset=ISO-8859-1', 'Connection': 'close', 'Transfer-Encoding': 'chunked'}\n",
      "JSON Data: {'responseHeader': {'status': 0, 'QTime': 6, 'params': {'df': 'text', 'q.alt': '*:*', 'indent': 'true', 'echoParams': 'all', 'fl': '*,score', 'start': '0', 'fq': ['type:Dataset', 'activity_id:\"input4MIPs\"', 'project:\"input4MIPs\"', 'mip_era:\"CMIP7\"'], 'rows': '10', 'q': '*:*', 'shards': 'localhost:8983/solr/datasets,localhost:8985/solr/datasets,localhost:8987/solr/datasets,localhost:8988/solr/datasets,localhost:8990/solr/datasets,localhost:8993/solr/datasets,localhost:8995/solr/datasets', 'tie': '0.01', 'facet.limit': '2048', 'qf': 'text', 'facet.method': 'fc', 'facet.mincount': '1', 'wt': 'json', 'facet.sort': 'lex'}}, 'response': {'numFound': 3, 'start': 0, 'maxScore': 1.0, 'docs': [{'project': ['input4MIPs'], 'activity_id': ['input4MIPs'], 'mip_era': ['CMIP7'], 'target_mip': ['CMIP'], 'institution_id': ['SOLARIS-HEPPA'], 'source_id': ['SOLARIS-HEPPA-CMIP-4-6'], 'realm': ['atmos'], 'frequency': ['day'], 'variable_id': ['Multiple'], 'grid_label': ['gn'], 'contact': ['bernd@iaa.es'], 'dataset_category': ['solar'], 'source_version': ['4.6'], 'source': ['SSI, TSI, and F10.7 from ssi_v03r00 (Odele Coddington et al., pers. comm.); Ap and Kp from ftp.ngdc.noaa.gov until 2014, afterwards from GFZ Potsdam (https://kp.gfz-potsdam.de), P-IPR from SEP-II (Ilya Usoskin et al., pers. comm.), MEE-IPR from FMI APEEP v2024d_cmip7 (Max van de Kamp et al., pers. comm.), GCR-IPR from CRII v2024-02 (Ilya Usoskin et al., pers. comm.)'], 'further_info_url': ['https://www.solarisheppa.kit.edu/75.php'], 'title': 'input4MIPs.CMIP7.CMIP.SOLARIS-HEPPA.SOLARIS-HEPPA-CMIP-4-6.atmos.day.multiple.gn', 'product': ['derived'], 'nominal_resolution': ['10000 km'], 'deprecated': ['False'], 'dataset_status': ['latest'], 'Conventions': ['CF-1.8'], 'target_mip_list': ['CMIP'], 'creation_date': '2024-12-23T13:31:47Z', 'data_node': 'esgf-data2.llnl.gov', 'index_node': 'esgf-node.llnl.gov', 'master_id': 'input4MIPs.CMIP7.CMIP.SOLARIS-HEPPA.SOLARIS-HEPPA-CMIP-4-6.atmos.day.multiple.gn', 'instance_id': 'input4MIPs.CMIP7.CMIP.SOLARIS-HEPPA.SOLARIS-HEPPA-CMIP-4-6.atmos.day.multiple.gn.v20250219', 'id': 'input4MIPs.CMIP7.CMIP.SOLARIS-HEPPA.SOLARIS-HEPPA-CMIP-4-6.atmos.day.multiple.gn.v20250219|esgf-data2.llnl.gov', 'short_description': ['SOLARIS-HEPPA CMIP7 historic solar forcing (1850-2023)'], 'replica': False, 'latest': True, 'type': 'Dataset', 'version': '20250219', 'dataset_id_template_': ['%(activity_id)s.%(mip_era)s.%(target_mip)s.%(institution_id)s.%(source_id)s.%(realm)s.%(frequency)s.%(variable_id)s.%(grid_label)s'], 'directory_format_template_': ['%(root)s/%(activity_id)s/%(mip_era)s/%(target_mip)s/%(institution_id)s/%(source_id)s/%(realm)s/%(frequency)s/%(variable_id)s/%(grid_label)s/%(version)s'], 'variable_long_name': ['time', 'spectral wavelength of bin center', 'Pressure level', 'geomagnetic latitude', 'bounds of time bin', 'bounds of wavelength bin', 'size of wavelength bin', 'bounds of geomagnetic latitude', 'year of Gregorian calendar', 'month of Gregorian calendar', 'day of Gregorian calendar', 'solar cycle number', 'solar cycle phase', 'daily planetary Ap index', 'daily planetary Kp index', 'Ion pair production rate by solar protons', 'Adjusted F10.7 solar radio flux', 'Smoothed sunspot number', 'Ion pair production rate by cosmic rays', 'Ion pair production rate by MEE', 'McIlwain L shell in Earth radii', 'reconstructed spectral solar irradiance at 1 AU', 'reconstructed total solar irradiance at 1 AU'], 'variable': ['Multiple'], 'variable_units': ['month', 'W m^-2', 'degrees_north', 'Gregorian_year', 'nm', 'radian/pi', 'hPa', 'day', '10^-22 W m^-2 Hz^-1', 'nT', 'W m^-2 nm^-1', 'g^-1 s^-1'], 'cf_standard_name': ['time', 'solar_irradiance_per_unit_wavelength', 'solar_irradiance', 'radiation_wavelength'], 'datetime_start': '1850-01-01T12:00:00Z', 'datetime_end': '2023-12-31T12:00:00Z', 'height_top': 5.9603e-06, 'height_bottom': 1000.0, 'geo_units': ['hPa'], 'number_of_files': 1, 'size': 2498042196, 'access': ['HTTPServer', 'OPENDAP', 'Globus'], 'globus_url': ['https://app.globus.org/file_manager?origin_id=1889ea03-25ad-4f9f-8110-1ce8833a9d7e&origin_path=/user_pub_work/input4MIPs/CMIP7/CMIP/SOLARIS-HEPPA/SOLARIS-HEPPA-CMIP-4-6/atmos/day/multiple/gn/v20250219'], 'pid': ['hdl:21.14100/cbb79693-e662-3233-b201-30e37707ba8b'], 'xlink': ['http://hdl.handle.net/hdl:21.14100/cbb79693-e662-3233-b201-30e37707ba8b|PID|pid'], '_version_': 1824502509224329216, 'retracted': False, '_timestamp': '2025-02-19T16:06:23.266Z', 'score': 1.0}, {'project': ['input4MIPs'], 'activity_id': ['input4MIPs'], 'mip_era': ['CMIP7'], 'target_mip': ['CMIP'], 'institution_id': ['SOLARIS-HEPPA'], 'source_id': ['SOLARIS-HEPPA-CMIP-4-6'], 'realm': ['atmos'], 'frequency': ['fx'], 'variable_id': ['Multiple'], 'grid_label': ['gn'], 'contact': ['bernd@iaa.es'], 'dataset_category': ['solar'], 'source_version': ['4.6'], 'source': ['SSI, TSI, and F10.7 from ssi_v03r00 (Odele Coddington et al., pers. comm.); Ap and Kp from ftp.ngdc.noaa.gov until 2014, afterwards from GFZ Potsdam (https://kp.gfz-potsdam.de), P-IPR from SEP-II (Ilya Usoskin et al., pers. comm.), MEE-IPR from FMI APEEP v2024d_cmip7 (Max van de Kamp et al., pers. comm.), GCR-IPR from CRII v2024-02 (Ilya Usoskin et al., pers. comm.)'], 'further_info_url': ['https://www.solarisheppa.kit.edu/75.php'], 'title': 'input4MIPs.CMIP7.CMIP.SOLARIS-HEPPA.SOLARIS-HEPPA-CMIP-4-6.atmos.fx.multiple.gn', 'product': ['derived'], 'nominal_resolution': ['10000 km'], 'deprecated': ['False'], 'dataset_status': ['latest'], 'Conventions': ['CF-1.8'], 'target_mip_list': ['CMIP'], 'creation_date': '2024-12-23T13:32:03Z', 'data_node': 'esgf-data2.llnl.gov', 'index_node': 'esgf-node.llnl.gov', 'master_id': 'input4MIPs.CMIP7.CMIP.SOLARIS-HEPPA.SOLARIS-HEPPA-CMIP-4-6.atmos.fx.multiple.gn', 'instance_id': 'input4MIPs.CMIP7.CMIP.SOLARIS-HEPPA.SOLARIS-HEPPA-CMIP-4-6.atmos.fx.multiple.gn.v20250219', 'id': 'input4MIPs.CMIP7.CMIP.SOLARIS-HEPPA.SOLARIS-HEPPA-CMIP-4-6.atmos.fx.multiple.gn.v20250219|esgf-data2.llnl.gov', 'short_description': ['CMIP7 solar forcing for PI control (1850-01-01 - 1873-01-28 average)'], 'replica': False, 'latest': True, 'type': 'Dataset', 'version': '20250219', 'dataset_id_template_': ['%(activity_id)s.%(mip_era)s.%(target_mip)s.%(institution_id)s.%(source_id)s.%(realm)s.%(frequency)s.%(variable_id)s.%(grid_label)s'], 'directory_format_template_': ['%(root)s/%(activity_id)s/%(mip_era)s/%(target_mip)s/%(institution_id)s/%(source_id)s/%(realm)s/%(frequency)s/%(variable_id)s/%(grid_label)s/%(version)s'], 'variable_long_name': ['time', 'spectral wavelength of bin center', 'Pressure level', 'geomagnetic latitude', 'bounds of time bin', 'bounds of wavelength bin', 'size of wavelength bin', 'bounds of geomagnetic latitude', 'year of Gregorian calendar', 'month of Gregorian calendar', 'day of Gregorian calendar', 'solar cycle number', 'solar cycle phase', 'daily planetary Ap index', 'daily planetary Kp index', 'Ion pair production rate by solar protons', 'Adjusted F10.7 solar radio flux', 'Smoothed sunspot number', 'Ion pair production rate by cosmic rays', 'Ion pair production rate by MEE', 'McIlwain L shell in Earth radii', 'reconstructed spectral solar irradiance at 1 AU', 'reconstructed total solar irradiance at 1 AU'], 'variable': ['Multiple'], 'variable_units': ['Gregorian_year', 'nm', 'nT', '10^-22 W m^-2 Hz^-1', 'hPa', 'day', 'W m^-2 nm^-1', 'W m^-2', 'month', 'g^-1 s^-1', 'radian/pi', 'degrees_north'], 'cf_standard_name': ['solar_irradiance_per_unit_wavelength', 'radiation_wavelength', 'time', 'solar_irradiance'], 'datetime_start': '1861-07-16T12:00:00Z', 'datetime_end': '1861-07-16T12:00:00Z', 'height_top': 5.9603e-06, 'height_bottom': 1000.0, 'geo_units': ['hPa'], 'number_of_files': 1, 'size': 241865, 'access': ['HTTPServer', 'OPENDAP', 'Globus'], 'globus_url': ['https://app.globus.org/file_manager?origin_id=1889ea03-25ad-4f9f-8110-1ce8833a9d7e&origin_path=/user_pub_work/input4MIPs/CMIP7/CMIP/SOLARIS-HEPPA/SOLARIS-HEPPA-CMIP-4-6/atmos/fx/multiple/gn/v20250219'], 'pid': ['hdl:21.14100/9a5ccc51-4412-3a1a-8dc9-1c3b7d5e9d92'], 'xlink': ['http://hdl.handle.net/hdl:21.14100/9a5ccc51-4412-3a1a-8dc9-1c3b7d5e9d92|PID|pid'], '_version_': 1824502518812508160, 'retracted': False, '_timestamp': '2025-02-19T16:06:32.410Z', 'score': 1.0}, {'project': ['input4MIPs'], 'activity_id': ['input4MIPs'], 'mip_era': ['CMIP7'], 'target_mip': ['CMIP'], 'institution_id': ['SOLARIS-HEPPA'], 'source_id': ['SOLARIS-HEPPA-CMIP-4-6'], 'realm': ['atmos'], 'frequency': ['mon'], 'variable_id': ['Multiple'], 'grid_label': ['gn'], 'contact': ['bernd@iaa.es'], 'dataset_category': ['solar'], 'source_version': ['4.6'], 'source': ['SSI, TSI, and F10.7 from ssi_v03r00 (Odele Coddington et al., pers. comm.); Ap and Kp from ftp.ngdc.noaa.gov until 2014, afterwards from GFZ Potsdam (https://kp.gfz-potsdam.de)'], 'further_info_url': ['https://www.solarisheppa.kit.edu/75.php'], 'title': 'input4MIPs.CMIP7.CMIP.SOLARIS-HEPPA.SOLARIS-HEPPA-CMIP-4-6.atmos.mon.multiple.gn', 'product': ['derived'], 'nominal_resolution': ['10000 km'], 'deprecated': ['False'], 'dataset_status': ['latest'], 'Conventions': ['CF-1.8'], 'target_mip_list': ['CMIP'], 'creation_date': '2024-12-23T13:32:14Z', 'data_node': 'esgf-data2.llnl.gov', 'index_node': 'esgf-node.llnl.gov', 'master_id': 'input4MIPs.CMIP7.CMIP.SOLARIS-HEPPA.SOLARIS-HEPPA-CMIP-4-6.atmos.mon.multiple.gn', 'instance_id': 'input4MIPs.CMIP7.CMIP.SOLARIS-HEPPA.SOLARIS-HEPPA-CMIP-4-6.atmos.mon.multiple.gn.v20250219', 'id': 'input4MIPs.CMIP7.CMIP.SOLARIS-HEPPA.SOLARIS-HEPPA-CMIP-4-6.atmos.mon.multiple.gn.v20250219|esgf-data2.llnl.gov', 'short_description': ['SOLARIS-HEPPA CMIP7 historic solar forcing (1850-2023)'], 'replica': False, 'latest': True, 'type': 'Dataset', 'version': '20250219', 'dataset_id_template_': ['%(activity_id)s.%(mip_era)s.%(target_mip)s.%(institution_id)s.%(source_id)s.%(realm)s.%(frequency)s.%(variable_id)s.%(grid_label)s'], 'directory_format_template_': ['%(root)s/%(activity_id)s/%(mip_era)s/%(target_mip)s/%(institution_id)s/%(source_id)s/%(realm)s/%(frequency)s/%(variable_id)s/%(grid_label)s/%(version)s'], 'variable_long_name': ['year of Gregorian calendar', 'month of Gregorian calendar', 'day of Gregorian calendar', 'solar cycle number', 'solar cycle phase', 'Smoothed sunspot number', 'time', 'bounds of time bin', 'spectral wavelength of bin center', 'bounds of wavelength bin', 'size of wavelength bin', 'daily planetary Ap index', 'daily planetary Kp index', 'Adjusted F10.7 solar radio flux', 'reconstructed spectral solar irradiance at 1 AU', 'reconstructed total solar irradiance at 1 AU'], 'variable': ['Multiple'], 'variable_units': ['month', 'W m^-2', 'nT', 'Gregorian_year', 'nm', '10^-22 W m^-2 Hz^-1', 'W m^-2 nm^-1', 'radian/pi', 'day'], 'cf_standard_name': ['solar_irradiance', 'time', 'radiation_wavelength', 'solar_irradiance_per_unit_wavelength'], 'datetime_start': '1850-01-15T12:00:00Z', 'datetime_end': '2023-12-15T12:00:00Z', 'number_of_files': 1, 'size': 32993433, 'access': ['HTTPServer', 'OPENDAP', 'Globus'], 'globus_url': ['https://app.globus.org/file_manager?origin_id=1889ea03-25ad-4f9f-8110-1ce8833a9d7e&origin_path=/user_pub_work/input4MIPs/CMIP7/CMIP/SOLARIS-HEPPA/SOLARIS-HEPPA-CMIP-4-6/atmos/mon/multiple/gn/v20250219'], 'pid': ['hdl:21.14100/dcfef108-163b-31e4-8a2f-17fe4210b3b8'], 'xlink': ['http://hdl.handle.net/hdl:21.14100/dcfef108-163b-31e4-8a2f-17fe4210b3b8|PID|pid'], '_version_': 1824502528414318592, 'retracted': False, '_timestamp': '2025-02-19T16:06:41.567Z', 'score': 1.0}]}}\n"
     ]
    }
   ],
   "source": [
    "url = \"http://esgf-node.llnl.gov/esg-search/search?format=application%2Fsolr%2Bjson&activity_id=\"+actId+\"&project=\"+projId+\"&mip_era=\"+mip_era+\"&type=Dataset\"\n",
    "#js=requests.get(inputsD)\n",
    "#js_mipsD = json.loads(js.text)\n",
    "\n",
    "try:\n",
    "    response = requests.get(url)\n",
    "    response.raise_for_status()  # Raise HTTPError for bad responses (4xx or 5xx)\n",
    "    \n",
    "    # Accessing response data\n",
    "    print(\"Status Code:\", response.status_code)\n",
    "    print(\"Headers:\", response.headers)\n",
    "    \n",
    "    # Attempt to parse JSON if possible, otherwise return raw text\n",
    "    try:\n",
    "        data = response.json()\n",
    "        print(\"JSON Data:\", data)\n",
    "    except ValueError:\n",
    "        print(\"Raw Response Text:\", response.text)\n",
    "        \n",
    "except requests.exceptions.RequestException as e:\n",
    "    print(f\"Request failed: {e}\")"
   ]
  },
  {
   "cell_type": "code",
   "execution_count": 91,
   "id": "9641b506-76ad-47aa-9d7f-72648b299960",
   "metadata": {},
   "outputs": [],
   "source": [
    "data=json.loads(response.text)\n",
    "type(data)#[\"source_id\"]\n",
    "data.keys()\n",
    "data['responseHeader']\n",
    "dlist = pd.DataFrame(data['response']['docs'])\n"
   ]
  },
  {
   "cell_type": "code",
   "execution_count": 99,
   "id": "5eccceb2-981a-4a55-93cf-b7eb4cfe9ab6",
   "metadata": {},
   "outputs": [
    {
     "data": {
      "text/html": [
       "<div>\n",
       "<style scoped>\n",
       "    .dataframe tbody tr th:only-of-type {\n",
       "        vertical-align: middle;\n",
       "    }\n",
       "\n",
       "    .dataframe tbody tr th {\n",
       "        vertical-align: top;\n",
       "    }\n",
       "\n",
       "    .dataframe thead th {\n",
       "        text-align: right;\n",
       "    }\n",
       "</style>\n",
       "<table border=\"1\" class=\"dataframe\">\n",
       "  <thead>\n",
       "    <tr style=\"text-align: right;\">\n",
       "      <th></th>\n",
       "      <th>source_id</th>\n",
       "      <th>variable</th>\n",
       "      <th>contact</th>\n",
       "      <th>title</th>\n",
       "    </tr>\n",
       "  </thead>\n",
       "  <tbody>\n",
       "    <tr>\n",
       "      <th>0</th>\n",
       "      <td>[SOLARIS-HEPPA-CMIP-4-6]</td>\n",
       "      <td>[Multiple]</td>\n",
       "      <td>[bernd@iaa.es]</td>\n",
       "      <td>input4MIPs.CMIP7.CMIP.SOLARIS-HEPPA.SOLARIS-HE...</td>\n",
       "    </tr>\n",
       "    <tr>\n",
       "      <th>1</th>\n",
       "      <td>[SOLARIS-HEPPA-CMIP-4-6]</td>\n",
       "      <td>[Multiple]</td>\n",
       "      <td>[bernd@iaa.es]</td>\n",
       "      <td>input4MIPs.CMIP7.CMIP.SOLARIS-HEPPA.SOLARIS-HE...</td>\n",
       "    </tr>\n",
       "    <tr>\n",
       "      <th>2</th>\n",
       "      <td>[SOLARIS-HEPPA-CMIP-4-6]</td>\n",
       "      <td>[Multiple]</td>\n",
       "      <td>[bernd@iaa.es]</td>\n",
       "      <td>input4MIPs.CMIP7.CMIP.SOLARIS-HEPPA.SOLARIS-HE...</td>\n",
       "    </tr>\n",
       "  </tbody>\n",
       "</table>\n",
       "</div>"
      ],
      "text/plain": [
       "                  source_id    variable         contact  \\\n",
       "0  [SOLARIS-HEPPA-CMIP-4-6]  [Multiple]  [bernd@iaa.es]   \n",
       "1  [SOLARIS-HEPPA-CMIP-4-6]  [Multiple]  [bernd@iaa.es]   \n",
       "2  [SOLARIS-HEPPA-CMIP-4-6]  [Multiple]  [bernd@iaa.es]   \n",
       "\n",
       "                                               title  \n",
       "0  input4MIPs.CMIP7.CMIP.SOLARIS-HEPPA.SOLARIS-HE...  \n",
       "1  input4MIPs.CMIP7.CMIP.SOLARIS-HEPPA.SOLARIS-HE...  \n",
       "2  input4MIPs.CMIP7.CMIP.SOLARIS-HEPPA.SOLARIS-HE...  "
      ]
     },
     "execution_count": 99,
     "metadata": {},
     "output_type": "execute_result"
    }
   ],
   "source": [
    "dlist[['source_id','variable', 'contact', 'title']]"
   ]
  },
  {
   "cell_type": "code",
   "execution_count": 96,
   "id": "458fbebf-c88d-4f09-a31f-2ea3384d74ba",
   "metadata": {},
   "outputs": [
    {
     "name": "stdout",
     "output_type": "stream",
     "text": [
      "input4MIPs.CMIP7.CMIP.SOLARIS-HEPPA.SOLARIS-HEPPA-CMIP-4-6.atmos.day.multiple.gn\n",
      "input4MIPs.CMIP7.CMIP.SOLARIS-HEPPA.SOLARIS-HEPPA-CMIP-4-6.atmos.fx.multiple.gn\n",
      "input4MIPs.CMIP7.CMIP.SOLARIS-HEPPA.SOLARIS-HEPPA-CMIP-4-6.atmos.mon.multiple.gn\n"
     ]
    }
   ],
   "source": [
    "for title in dlist['title']:\n",
    "    print(title)"
   ]
  },
  {
   "cell_type": "code",
   "execution_count": 97,
   "id": "2066a636-0304-4fc2-9d3a-85c2771ce3ea",
   "metadata": {},
   "outputs": [
    {
     "data": {
      "text/plain": [
       "Index(['project', 'activity_id', 'mip_era', 'target_mip', 'institution_id',\n",
       "       'source_id', 'realm', 'frequency', 'variable_id', 'grid_label',\n",
       "       'contact', 'dataset_category', 'source_version', 'source',\n",
       "       'further_info_url', 'title', 'product', 'nominal_resolution',\n",
       "       'deprecated', 'dataset_status', 'Conventions', 'target_mip_list',\n",
       "       'creation_date', 'data_node', 'index_node', 'master_id', 'instance_id',\n",
       "       'id', 'short_description', 'replica', 'latest', 'type', 'version',\n",
       "       'dataset_id_template_', 'directory_format_template_',\n",
       "       'variable_long_name', 'variable', 'variable_units', 'cf_standard_name',\n",
       "       'datetime_start', 'datetime_end', 'height_top', 'height_bottom',\n",
       "       'geo_units', 'number_of_files', 'size', 'access', 'globus_url', 'pid',\n",
       "       'xlink', '_version_', 'retracted', '_timestamp', 'score'],\n",
       "      dtype='object')"
      ]
     },
     "execution_count": 97,
     "metadata": {},
     "output_type": "execute_result"
    }
   ],
   "source": [
    "dlist.keys() # "
   ]
  },
  {
   "cell_type": "code",
   "execution_count": 142,
   "id": "53fb9b8a-3685-4d78-979f-7ab5a1995437",
   "metadata": {},
   "outputs": [
    {
     "name": "stdout",
     "output_type": "stream",
     "text": [
      "Title: input4MIPs.CMIP7.CMIP.SOLARIS-HEPPA.SOLARIS-HEPPA-CMIP-4-6.atmos.day.multiple.gn\n",
      "CMIP7 Forcing Datasets (input4MIPs).\n",
      "    These data include all datasets published for 'input4MIPs.CMIP7.CMIP.SOLARIS-HEPPA.SOLARIS-HEPPA-CMIP-4-6.atmos.day.multiple.gn' with the full Data Reference Syntax following the template 'activity_id.mip_era.target_mip.institution_id.source_id.realm.frequency.variable_id.grid_label'.\n",
      "\n",
      "    The model SOLARIS-HEPPA-CMIP-4-6 was run by the SOLARIS-HEPPA in native nominal resolutions: unknown.\n",
      "\n",
      "    Project: The forcing datasets (and boundary conditions) needed for CMIP7 experiments are being prepared by a number of different experts. Initially many of these datasets may only be available from those experts, but over time as part of the 'input4MIPs' activity most of them will be archived by PCMDI and served by the Earth System Grid Federation (https://esgf-node.llnl.gov/search/input4mips/ ). More information is available in the living document: http://goo.gl/r8up31 .\n",
      "    \n",
      "https://aims2.llnl.gov/search/input4mips/?mip_era=CMIP7&target_mip=CMIP&activity_id=xinput4MIPs&institution_id=SOLARIS-HEPPA&source_id=SOLARIS-HEPPA-CMIP-4-6&frequency=day\n",
      "200: URL accessible.\n",
      "Title: input4MIPs.CMIP7.CMIP.SOLARIS-HEPPA.SOLARIS-HEPPA-CMIP-4-6.atmos.fx.multiple.gn\n",
      "CMIP7 Forcing Datasets (input4MIPs).\n",
      "    These data include all datasets published for 'input4MIPs.CMIP7.CMIP.SOLARIS-HEPPA.SOLARIS-HEPPA-CMIP-4-6.atmos.fx.multiple.gn' with the full Data Reference Syntax following the template 'activity_id.mip_era.target_mip.institution_id.source_id.realm.frequency.variable_id.grid_label'.\n",
      "\n",
      "    The model SOLARIS-HEPPA-CMIP-4-6 was run by the SOLARIS-HEPPA in native nominal resolutions: unknown.\n",
      "\n",
      "    Project: The forcing datasets (and boundary conditions) needed for CMIP7 experiments are being prepared by a number of different experts. Initially many of these datasets may only be available from those experts, but over time as part of the 'input4MIPs' activity most of them will be archived by PCMDI and served by the Earth System Grid Federation (https://esgf-node.llnl.gov/search/input4mips/ ). More information is available in the living document: http://goo.gl/r8up31 .\n",
      "    \n",
      "https://aims2.llnl.gov/search/input4mips/?mip_era=CMIP7&target_mip=CMIP&activity_id=xinput4MIPs&institution_id=SOLARIS-HEPPA&source_id=SOLARIS-HEPPA-CMIP-4-6&frequency=fx\n",
      "200: URL accessible.\n",
      "Title: input4MIPs.CMIP7.CMIP.SOLARIS-HEPPA.SOLARIS-HEPPA-CMIP-4-6.atmos.mon.multiple.gn\n",
      "CMIP7 Forcing Datasets (input4MIPs).\n",
      "    These data include all datasets published for 'input4MIPs.CMIP7.CMIP.SOLARIS-HEPPA.SOLARIS-HEPPA-CMIP-4-6.atmos.mon.multiple.gn' with the full Data Reference Syntax following the template 'activity_id.mip_era.target_mip.institution_id.source_id.realm.frequency.variable_id.grid_label'.\n",
      "\n",
      "    The model SOLARIS-HEPPA-CMIP-4-6 was run by the SOLARIS-HEPPA in native nominal resolutions: unknown.\n",
      "\n",
      "    Project: The forcing datasets (and boundary conditions) needed for CMIP7 experiments are being prepared by a number of different experts. Initially many of these datasets may only be available from those experts, but over time as part of the 'input4MIPs' activity most of them will be archived by PCMDI and served by the Earth System Grid Federation (https://esgf-node.llnl.gov/search/input4mips/ ). More information is available in the living document: http://goo.gl/r8up31 .\n",
      "    \n",
      "https://aims2.llnl.gov/search/input4mips/?mip_era=CMIP7&target_mip=CMIP&activity_id=xinput4MIPs&institution_id=SOLARIS-HEPPA&source_id=SOLARIS-HEPPA-CMIP-4-6&frequency=mon\n",
      "200: URL accessible.\n"
     ]
    }
   ],
   "source": [
    "#https://aims2.llnl.gov/search/input4mips/?mip_era=CMIP7&target_mip=CMIP&activity_id=input4MIPs&institution_id=SOLARIS-HEPPA&source_id=SOLARIS-HEPPA-CMIP-4-6&frequency=day\n",
    "\n",
    "def assemble_doi_inputs(df):\n",
    "    # assemble title\n",
    "    title = df[\"title\"]\n",
    "    print(f\"Title: {df['title']}\")\n",
    "\n",
    "    # assemble description \n",
    "    description = f\"\"\"{df['mip_era'][0].replace(\"'\", \"\")} Forcing Datasets ({df['activity_id'][0].replace(\"'\", \"\")}).\n",
    "    These data include all datasets published for '{df['title'].replace(\"'\", \"\")}' with the full Data Reference Syntax following the template 'activity_id.mip_era.target_mip.institution_id.source_id.realm.frequency.variable_id.grid_label'.\n",
    "\n",
    "    The model {df['source_id'][0].replace(\"'\", \"\")} was run by the {df['institution_id'][0].replace(\"'\", \"\")} in native nominal resolutions: unknown.\n",
    "\n",
    "    Project: The forcing datasets (and boundary conditions) needed for {df['mip_era'][0].replace(\"'\", \"\")} experiments are being prepared by a number of different experts. Initially many of these datasets may only be available from those experts, but over time as part of the 'input4MIPs' activity most of them will be archived by PCMDI and served by the Earth System Grid Federation (https://esgf-node.llnl.gov/search/input4mips/ ). More information is available in the living document: http://goo.gl/r8up31 .\n",
    "    \"\"\"\n",
    "    print(description)\n",
    "    \n",
    "    # assemble URL\n",
    "    ESGF_URL=f\"https://aims2.llnl.gov/search/input4mips/?mip_era={df['mip_era'][0].replace(\"'\", \"\")}&target_mip={df['target_mip'][0].replace(\"'\", \"\")}&activity_id=x{df['activity_id'][0].replace(\"'\", \"\")}&institution_id={df['institution_id'][0].replace(\"'\", \"\")}&source_id={df['source_id'][0].replace(\"'\", \"\")}&frequency={df['frequency'][0].replace(\"'\", \"\")}\"\n",
    "    print(ESGF_URL)\n",
    "    # test if ESGF_URL is valid\n",
    "    try:\n",
    "        page = requests.get(ESGF_URL)\n",
    "        if page.status_code == 200:\n",
    "            print(f\"{page.status_code}: URL accessible.\")\n",
    "    except (requests.exceptions.HTTPError, requests.exceptions.ConnectionError):\n",
    "        print(\"Error\")\n",
    "\n",
    "for i, df in dlist.iterrows():\n",
    "    assemble_doi_inputs(df)"
   ]
  },
  {
   "cell_type": "code",
   "execution_count": 112,
   "id": "cd83b540-99a1-4bd8-a6ab-5177544ed405",
   "metadata": {},
   "outputs": [
    {
     "name": "stdout",
     "output_type": "stream",
     "text": [
      "<class 'pandas.core.series.Series'>\n",
      "<class 'pandas.core.series.Series'>\n",
      "<class 'pandas.core.series.Series'>\n"
     ]
    }
   ],
   "source": [
    "for i,df in dlist.iterrows():\n",
    "    print(type(df))"
   ]
  },
  {
   "cell_type": "code",
   "execution_count": 136,
   "id": "6545a664-8e93-477f-b632-103711f2b6ae",
   "metadata": {},
   "outputs": [
    {
     "data": {
      "text/plain": [
       "'input4MIPs.CMIP7.CMIP.SOLARIS-HEPPA.SOLARIS-HEPPA-CMIP-4-6.atmos.mon.multiple.gn'"
      ]
     },
     "execution_count": 136,
     "metadata": {},
     "output_type": "execute_result"
    }
   ],
   "source": [
    "df[\"title\"]#.replace(\"'\", \"\")"
   ]
  },
  {
   "cell_type": "code",
   "execution_count": null,
   "id": "8b438bb3-298d-4f0c-a6ae-da176ce11dc8",
   "metadata": {},
   "outputs": [],
   "source": []
  }
 ],
 "metadata": {
  "kernelspec": {
   "display_name": "esgf",
   "language": "python",
   "name": "esgf"
  },
  "language_info": {
   "codemirror_mode": {
    "name": "ipython",
    "version": 3
   },
   "file_extension": ".py",
   "mimetype": "text/x-python",
   "name": "python",
   "nbconvert_exporter": "python",
   "pygments_lexer": "ipython3",
   "version": "3.12.4"
  }
 },
 "nbformat": 4,
 "nbformat_minor": 5
}
